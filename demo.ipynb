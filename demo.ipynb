{
 "cells": [
  {
   "cell_type": "code",
   "execution_count": null,
   "metadata": {
    "vscode": {
     "languageId": "plaintext"
    }
   },
   "outputs": [],
   "source": [
    "import requests\n",
    "import sseclient\n",
    "import json\n",
    "\n",
    "from IPython.display import display, Markdown"
   ]
  },
  {
   "cell_type": "code",
   "execution_count": null,
   "metadata": {},
   "outputs": [],
   "source": [
    "course_description = \"\"\"\n",
    "Robotics is revolutionizing industries, from manufacturing to healthcare, \n",
    "by combining mechanical systems, electronics, and artificial intelligence. \n",
    "This Intro to Robotics course provides a foundational understanding of \n",
    "how robots work, their applications, and the core technologies behind them.\n",
    "\n",
    "You’ll explore key topics such as robot kinematics, sensors, actuators, \n",
    "programming, and AI-driven automation. Through hands-on projects and \n",
    "simulations, you’ll learn how to design, build, and program simple robotic\n",
    "systems.\n",
    "\n",
    "This course is ideal for beginners, students, and professionals looking\n",
    "to gain insights into robotic hardware, software, and real-world applications. \n",
    "By the end of the course, you’ll have a solid understanding of how robots \n",
    "perceive their environment, make decisions, and interact with the physical world.\n",
    "\n",
    "Join us to take your first step into the exciting field of robotics!\n",
    "\"\"\""
   ]
  },
  {
   "cell_type": "markdown",
   "metadata": {},
   "source": [
    "# Course Outline"
   ]
  },
  {
   "cell_type": "code",
   "execution_count": null,
   "metadata": {
    "scrolled": true,
    "vscode": {
     "languageId": "plaintext"
    }
   },
   "outputs": [],
   "source": [
    "url = \"http://localhost:8000/stream_outline\"\n",
    "data = {\n",
    "    \"title\": \"Introduction to Robotics\",\n",
    "    \"description\": course_description\n",
    "}\n",
    "\n",
    "# 1) Start the streaming request\n",
    "response = requests.post(url, json=data, stream=True)\n",
    "\n",
    "# 2) Wrap the response with SSEClient\n",
    "client = sseclient.SSEClient(response.iter_lines())\n",
    "\n",
    "session_id = None\n",
    "\n",
    "# 3) Iterate over events\n",
    "for event in client.events():\n",
    "    if event.data:  # If there's data in the SSE event\n",
    "        cleaned = event.data.split(\"data: \")\n",
    "        \n",
    "        try:\n",
    "            parsed1 = json.loads(cleaned[0])\n",
    "            parsed2 = json.loads(cleaned[1])\n",
    "\n",
    "            # If we see a key \"session_id\", we can store it\n",
    "            if \"session_id\" in parsed1:\n",
    "                session_id = parsed1[\"session_id\"]\n",
    "                print(\"Received session_id:\", session_id, \"\\n\")\n",
    "            \n",
    "            display(Markdown(parsed2[\"generate_outline\"][\"outline\"]))\n",
    "            \n",
    "        except json.JSONDecodeError:\n",
    "            print(\"Raw SSE string:\", event.data)"
   ]
  },
  {
   "cell_type": "markdown",
   "metadata": {},
   "source": [
    "# Course Lessons"
   ]
  },
  {
   "cell_type": "code",
   "execution_count": null,
   "metadata": {
    "scrolled": true
   },
   "outputs": [],
   "source": [
    "url = f\"http://localhost:8000/stream_lessons/{session_id}\"\n",
    "\n",
    "response = requests.get(url, stream=True)\n",
    "client = sseclient.SSEClient(response)\n",
    "\n",
    "for event in client.events():\n",
    "    if event.data:\n",
    "        # Typically {\"lessons\": \"...\"}\n",
    "        parsed = json.loads(event.data)\n",
    "        print(\"Lessons SSE:\", parsed)"
   ]
  },
  {
   "cell_type": "code",
   "execution_count": null,
   "metadata": {
    "scrolled": true
   },
   "outputs": [],
   "source": [
    "display(Markdown(parsed[\"generate_lessons\"][\"lessons\"]))"
   ]
  },
  {
   "cell_type": "markdown",
   "metadata": {},
   "source": [
    "# Refine Lessons"
   ]
  },
  {
   "cell_type": "code",
   "execution_count": null,
   "metadata": {
    "scrolled": true
   },
   "outputs": [],
   "source": [
    "url = \"http://localhost:8000/stream_refine_lessons\"\n",
    "data = {\n",
    "    \"session_id\": session_id,\n",
    "    \"feedback\": \"Please include more hands-on examples\"\n",
    "}\n",
    "\n",
    "response = requests.post(url, json=data, stream=True)\n",
    "client = sseclient.SSEClient(response)\n",
    "\n",
    "for event in client.events():\n",
    "    if event.data:\n",
    "        # Typically {\"refined_lessons\": \"...\"}\n",
    "        parsed = json.loads(event.data)\n",
    "        print(\"Refined SSE:\", parsed)"
   ]
  },
  {
   "cell_type": "code",
   "execution_count": null,
   "metadata": {
    "scrolled": true
   },
   "outputs": [],
   "source": [
    "display(Markdown(parsed[\"refine_lessons\"][\"lessons\"]))"
   ]
  },
  {
   "cell_type": "code",
   "execution_count": null,
   "metadata": {},
   "outputs": [],
   "source": []
  }
 ],
 "metadata": {
  "kernelspec": {
   "display_name": "Python (venv)",
   "language": "python",
   "name": "venv"
  },
  "language_info": {
   "codemirror_mode": {
    "name": "ipython",
    "version": 3
   },
   "file_extension": ".py",
   "mimetype": "text/x-python",
   "name": "python",
   "nbconvert_exporter": "python",
   "pygments_lexer": "ipython3",
   "version": "3.9.6"
  }
 },
 "nbformat": 4,
 "nbformat_minor": 4
}
